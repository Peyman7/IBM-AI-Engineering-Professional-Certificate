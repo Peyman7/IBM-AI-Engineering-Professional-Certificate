{
  "cells": [
    {
      "cell_type": "markdown",
      "metadata": {
        "id": "ldf_b3bGtp7q"
      },
      "source": [
        "<a href=\"http://cocl.us/pytorch_link_top\">\n",
        "    <img src=\"https://s3-api.us-geo.objectstorage.softlayer.net/cf-courses-data/CognitiveClass/DL0110EN/notebook_images%20/Pytochtop.png\" width=\"750\" alt=\"IBM Product \">\n",
        "</a>\n"
      ]
    },
    {
      "cell_type": "markdown",
      "metadata": {
        "id": "GSgM0RFMtp7s"
      },
      "source": [
        "<img src=\"https://cf-courses-data.s3.us.cloud-object-storage.appdomain.cloud/IBMDeveloperSkillsNetwork-DL0321EN-SkillsNetwork/image/IDSN-logo.png\" width=\"200\" alt=\"cognitiveclass.ai logo\">\n"
      ]
    },
    {
      "cell_type": "markdown",
      "metadata": {
        "id": "uU3gQ02Ltp7s"
      },
      "source": [
        "<h1><h1>Pre-trained-Models with PyTorch </h1>\n"
      ]
    },
    {
      "cell_type": "markdown",
      "metadata": {
        "id": "orVbjgYztp7t"
      },
      "source": [
        "In this lab, you will use pre-trained models to classify between the negative and positive samples; you will be provided with the dataset object. The particular pre-trained model will be resnet18; you will have three questions:\n",
        "<ul>\n",
        "<li>change the output layer</li>\n",
        "<li> train the model</li>\n",
        "<li>  identify  several  misclassified samples</li>\n",
        " </ul>\n",
        "You will take several screenshots of your work and share your notebook.\n"
      ]
    },
    {
      "cell_type": "markdown",
      "metadata": {
        "id": "ZOFyTR0Ntp7t"
      },
      "source": [
        "<h2>Table of Contents</h2>\n"
      ]
    },
    {
      "cell_type": "markdown",
      "metadata": {
        "id": "RNvM6TLntp7t"
      },
      "source": [
        "<div class=\"alert alert-block alert-info\" style=\"margin-top: 20px\">\n",
        "\n",
        "\n",
        "<ul>\n",
        "    <li><a href=\"#download_data\"> Download Data</a></li>\n",
        "    <li><a href=\"#auxiliary\"> Imports and Auxiliary Functions </a></li>\n",
        "    <li><a href=\"#data_class\"> Dataset Class</a></li>\n",
        "    <li><a href=\"#Question_1\">Question 1</a></li>\n",
        "    <li><a href=\"#Question_2\">Question 2</a></li>\n",
        "    <li><a href=\"#Question_3\">Question 3</a></li>\n",
        "</ul>\n",
        "<p>Estimated Time Needed: <strong>120 min</strong></p>\n",
        " </div>\n",
        "<hr>\n"
      ]
    },
    {
      "cell_type": "markdown",
      "metadata": {
        "id": "RiXx0iB6tp7t"
      },
      "source": [
        "<h2 id=\"download_data\">Download Data</h2>\n"
      ]
    },
    {
      "cell_type": "markdown",
      "metadata": {
        "id": "Q12CLCWetp7u"
      },
      "source": [
        "Download the dataset and unzip the files in your data directory, unlike the other labs, all the data will be deleted after you close  the lab, this may take some time:\n"
      ]
    },
    {
      "cell_type": "code",
      "execution_count": 1,
      "metadata": {
        "tags": [],
        "colab": {
          "base_uri": "https://localhost:8080/"
        },
        "id": "6jndP5EYtp7u",
        "outputId": "fff7062b-5758-422d-e434-c972ffdb9669"
      },
      "outputs": [
        {
          "output_type": "stream",
          "name": "stdout",
          "text": [
            "--2025-07-04 16:15:44--  https://s3-api.us-geo.objectstorage.softlayer.net/cf-courses-data/CognitiveClass/DL0321EN/data/images/Positive_tensors.zip\n",
            "Resolving s3-api.us-geo.objectstorage.softlayer.net (s3-api.us-geo.objectstorage.softlayer.net)... 67.228.254.196\n",
            "Connecting to s3-api.us-geo.objectstorage.softlayer.net (s3-api.us-geo.objectstorage.softlayer.net)|67.228.254.196|:443... connected.\n",
            "HTTP request sent, awaiting response... 200 OK\n",
            "Length: 2598656062 (2.4G) [application/zip]\n",
            "Saving to: ‘Positive_tensors.zip’\n",
            "\n",
            "Positive_tensors.zi 100%[===================>]   2.42G  18.2MB/s    in 2m 19s  \n",
            "\n",
            "2025-07-04 16:18:04 (17.8 MB/s) - ‘Positive_tensors.zip’ saved [2598656062/2598656062]\n",
            "\n"
          ]
        }
      ],
      "source": [
        "!wget https://s3-api.us-geo.objectstorage.softlayer.net/cf-courses-data/CognitiveClass/DL0321EN/data/images/Positive_tensors.zip\n",
        "!unzip -qo Positive_tensors.zip"
      ]
    },
    {
      "cell_type": "code",
      "execution_count": 2,
      "metadata": {
        "tags": [],
        "colab": {
          "base_uri": "https://localhost:8080/"
        },
        "id": "sqGJqV3Btp7w",
        "outputId": "c538bc09-3be9-4247-ae0c-f461cfa4ec15"
      },
      "outputs": [
        {
          "output_type": "stream",
          "name": "stdout",
          "text": [
            "--2025-07-04 16:20:45--  https://s3-api.us-geo.objectstorage.softlayer.net/cf-courses-data/CognitiveClass/DL0321EN/data/images/Negative_tensors.zip\n",
            "Resolving s3-api.us-geo.objectstorage.softlayer.net (s3-api.us-geo.objectstorage.softlayer.net)... 67.228.254.196\n",
            "Connecting to s3-api.us-geo.objectstorage.softlayer.net (s3-api.us-geo.objectstorage.softlayer.net)|67.228.254.196|:443... connected.\n",
            "HTTP request sent, awaiting response... 200 OK\n",
            "Length: 2111408108 (2.0G) [application/zip]\n",
            "Saving to: ‘Negative_tensors.zip’\n",
            "\n",
            "Negative_tensors.zi 100%[===================>]   1.97G  3.99MB/s    in 7m 0s   \n",
            "\n",
            "2025-07-04 16:27:46 (4.79 MB/s) - ‘Negative_tensors.zip’ saved [2111408108/2111408108]\n",
            "\n"
          ]
        }
      ],
      "source": [
        "! wget https://s3-api.us-geo.objectstorage.softlayer.net/cf-courses-data/CognitiveClass/DL0321EN/data/images/Negative_tensors.zip\n",
        "!unzip -qo Negative_tensors.zip"
      ]
    },
    {
      "cell_type": "markdown",
      "metadata": {
        "id": "WeZkC5Xdtp7w"
      },
      "source": [
        "We will install torchvision:\n"
      ]
    },
    {
      "cell_type": "code",
      "execution_count": 3,
      "metadata": {
        "colab": {
          "base_uri": "https://localhost:8080/"
        },
        "id": "Ov6km7P8tp7w",
        "outputId": "db9d8087-17ec-4b93-e6cc-2a723c7af4bf"
      },
      "outputs": [
        {
          "output_type": "stream",
          "name": "stdout",
          "text": [
            "Requirement already satisfied: torchvision in /usr/local/lib/python3.11/dist-packages (0.21.0+cu124)\n",
            "Requirement already satisfied: numpy in /usr/local/lib/python3.11/dist-packages (from torchvision) (2.0.2)\n",
            "Requirement already satisfied: torch==2.6.0 in /usr/local/lib/python3.11/dist-packages (from torchvision) (2.6.0+cu124)\n",
            "Requirement already satisfied: pillow!=8.3.*,>=5.3.0 in /usr/local/lib/python3.11/dist-packages (from torchvision) (11.2.1)\n",
            "Requirement already satisfied: filelock in /usr/local/lib/python3.11/dist-packages (from torch==2.6.0->torchvision) (3.18.0)\n",
            "Requirement already satisfied: typing-extensions>=4.10.0 in /usr/local/lib/python3.11/dist-packages (from torch==2.6.0->torchvision) (4.14.0)\n",
            "Requirement already satisfied: networkx in /usr/local/lib/python3.11/dist-packages (from torch==2.6.0->torchvision) (3.5)\n",
            "Requirement already satisfied: jinja2 in /usr/local/lib/python3.11/dist-packages (from torch==2.6.0->torchvision) (3.1.6)\n",
            "Requirement already satisfied: fsspec in /usr/local/lib/python3.11/dist-packages (from torch==2.6.0->torchvision) (2025.3.2)\n",
            "Collecting nvidia-cuda-nvrtc-cu12==12.4.127 (from torch==2.6.0->torchvision)\n",
            "  Downloading nvidia_cuda_nvrtc_cu12-12.4.127-py3-none-manylinux2014_x86_64.whl.metadata (1.5 kB)\n",
            "Collecting nvidia-cuda-runtime-cu12==12.4.127 (from torch==2.6.0->torchvision)\n",
            "  Downloading nvidia_cuda_runtime_cu12-12.4.127-py3-none-manylinux2014_x86_64.whl.metadata (1.5 kB)\n",
            "Collecting nvidia-cuda-cupti-cu12==12.4.127 (from torch==2.6.0->torchvision)\n",
            "  Downloading nvidia_cuda_cupti_cu12-12.4.127-py3-none-manylinux2014_x86_64.whl.metadata (1.6 kB)\n",
            "Collecting nvidia-cudnn-cu12==9.1.0.70 (from torch==2.6.0->torchvision)\n",
            "  Downloading nvidia_cudnn_cu12-9.1.0.70-py3-none-manylinux2014_x86_64.whl.metadata (1.6 kB)\n",
            "Collecting nvidia-cublas-cu12==12.4.5.8 (from torch==2.6.0->torchvision)\n",
            "  Downloading nvidia_cublas_cu12-12.4.5.8-py3-none-manylinux2014_x86_64.whl.metadata (1.5 kB)\n",
            "Collecting nvidia-cufft-cu12==11.2.1.3 (from torch==2.6.0->torchvision)\n",
            "  Downloading nvidia_cufft_cu12-11.2.1.3-py3-none-manylinux2014_x86_64.whl.metadata (1.5 kB)\n",
            "Collecting nvidia-curand-cu12==10.3.5.147 (from torch==2.6.0->torchvision)\n",
            "  Downloading nvidia_curand_cu12-10.3.5.147-py3-none-manylinux2014_x86_64.whl.metadata (1.5 kB)\n",
            "Collecting nvidia-cusolver-cu12==11.6.1.9 (from torch==2.6.0->torchvision)\n",
            "  Downloading nvidia_cusolver_cu12-11.6.1.9-py3-none-manylinux2014_x86_64.whl.metadata (1.6 kB)\n",
            "Collecting nvidia-cusparse-cu12==12.3.1.170 (from torch==2.6.0->torchvision)\n",
            "  Downloading nvidia_cusparse_cu12-12.3.1.170-py3-none-manylinux2014_x86_64.whl.metadata (1.6 kB)\n",
            "Requirement already satisfied: nvidia-cusparselt-cu12==0.6.2 in /usr/local/lib/python3.11/dist-packages (from torch==2.6.0->torchvision) (0.6.2)\n",
            "Requirement already satisfied: nvidia-nccl-cu12==2.21.5 in /usr/local/lib/python3.11/dist-packages (from torch==2.6.0->torchvision) (2.21.5)\n",
            "Requirement already satisfied: nvidia-nvtx-cu12==12.4.127 in /usr/local/lib/python3.11/dist-packages (from torch==2.6.0->torchvision) (12.4.127)\n",
            "Collecting nvidia-nvjitlink-cu12==12.4.127 (from torch==2.6.0->torchvision)\n",
            "  Downloading nvidia_nvjitlink_cu12-12.4.127-py3-none-manylinux2014_x86_64.whl.metadata (1.5 kB)\n",
            "Requirement already satisfied: triton==3.2.0 in /usr/local/lib/python3.11/dist-packages (from torch==2.6.0->torchvision) (3.2.0)\n",
            "Requirement already satisfied: sympy==1.13.1 in /usr/local/lib/python3.11/dist-packages (from torch==2.6.0->torchvision) (1.13.1)\n",
            "Requirement already satisfied: mpmath<1.4,>=1.1.0 in /usr/local/lib/python3.11/dist-packages (from sympy==1.13.1->torch==2.6.0->torchvision) (1.3.0)\n",
            "Requirement already satisfied: MarkupSafe>=2.0 in /usr/local/lib/python3.11/dist-packages (from jinja2->torch==2.6.0->torchvision) (3.0.2)\n",
            "Downloading nvidia_cublas_cu12-12.4.5.8-py3-none-manylinux2014_x86_64.whl (363.4 MB)\n",
            "\u001b[2K   \u001b[90m━━━━━━━━━━━━━━━━━━━━━━━━━━━━━━━━━━━━━━━━\u001b[0m \u001b[32m363.4/363.4 MB\u001b[0m \u001b[31m3.9 MB/s\u001b[0m eta \u001b[36m0:00:00\u001b[0m\n",
            "\u001b[?25hDownloading nvidia_cuda_cupti_cu12-12.4.127-py3-none-manylinux2014_x86_64.whl (13.8 MB)\n",
            "\u001b[2K   \u001b[90m━━━━━━━━━━━━━━━━━━━━━━━━━━━━━━━━━━━━━━━━\u001b[0m \u001b[32m13.8/13.8 MB\u001b[0m \u001b[31m120.3 MB/s\u001b[0m eta \u001b[36m0:00:00\u001b[0m\n",
            "\u001b[?25hDownloading nvidia_cuda_nvrtc_cu12-12.4.127-py3-none-manylinux2014_x86_64.whl (24.6 MB)\n",
            "\u001b[2K   \u001b[90m━━━━━━━━━━━━━━━━━━━━━━━━━━━━━━━━━━━━━━━━\u001b[0m \u001b[32m24.6/24.6 MB\u001b[0m \u001b[31m91.0 MB/s\u001b[0m eta \u001b[36m0:00:00\u001b[0m\n",
            "\u001b[?25hDownloading nvidia_cuda_runtime_cu12-12.4.127-py3-none-manylinux2014_x86_64.whl (883 kB)\n",
            "\u001b[2K   \u001b[90m━━━━━━━━━━━━━━━━━━━━━━━━━━━━━━━━━━━━━━━━\u001b[0m \u001b[32m883.7/883.7 kB\u001b[0m \u001b[31m65.1 MB/s\u001b[0m eta \u001b[36m0:00:00\u001b[0m\n",
            "\u001b[?25hDownloading nvidia_cudnn_cu12-9.1.0.70-py3-none-manylinux2014_x86_64.whl (664.8 MB)\n",
            "\u001b[2K   \u001b[90m━━━━━━━━━━━━━━━━━━━━━━━━━━━━━━━━━━━━━━━━\u001b[0m \u001b[32m664.8/664.8 MB\u001b[0m \u001b[31m2.1 MB/s\u001b[0m eta \u001b[36m0:00:00\u001b[0m\n",
            "\u001b[?25hDownloading nvidia_cufft_cu12-11.2.1.3-py3-none-manylinux2014_x86_64.whl (211.5 MB)\n",
            "\u001b[2K   \u001b[90m━━━━━━━━━━━━━━━━━━━━━━━━━━━━━━━━━━━━━━━━\u001b[0m \u001b[32m211.5/211.5 MB\u001b[0m \u001b[31m5.6 MB/s\u001b[0m eta \u001b[36m0:00:00\u001b[0m\n",
            "\u001b[?25hDownloading nvidia_curand_cu12-10.3.5.147-py3-none-manylinux2014_x86_64.whl (56.3 MB)\n",
            "\u001b[2K   \u001b[90m━━━━━━━━━━━━━━━━━━━━━━━━━━━━━━━━━━━━━━━━\u001b[0m \u001b[32m56.3/56.3 MB\u001b[0m \u001b[31m15.0 MB/s\u001b[0m eta \u001b[36m0:00:00\u001b[0m\n",
            "\u001b[?25hDownloading nvidia_cusolver_cu12-11.6.1.9-py3-none-manylinux2014_x86_64.whl (127.9 MB)\n",
            "\u001b[2K   \u001b[90m━━━━━━━━━━━━━━━━━━━━━━━━━━━━━━━━━━━━━━━━\u001b[0m \u001b[32m127.9/127.9 MB\u001b[0m \u001b[31m7.2 MB/s\u001b[0m eta \u001b[36m0:00:00\u001b[0m\n",
            "\u001b[?25hDownloading nvidia_cusparse_cu12-12.3.1.170-py3-none-manylinux2014_x86_64.whl (207.5 MB)\n",
            "\u001b[2K   \u001b[90m━━━━━━━━━━━━━━━━━━━━━━━━━━━━━━━━━━━━━━━━\u001b[0m \u001b[32m207.5/207.5 MB\u001b[0m \u001b[31m6.1 MB/s\u001b[0m eta \u001b[36m0:00:00\u001b[0m\n",
            "\u001b[?25hDownloading nvidia_nvjitlink_cu12-12.4.127-py3-none-manylinux2014_x86_64.whl (21.1 MB)\n",
            "\u001b[2K   \u001b[90m━━━━━━━━━━━━━━━━━━━━━━━━━━━━━━━━━━━━━━━━\u001b[0m \u001b[32m21.1/21.1 MB\u001b[0m \u001b[31m101.2 MB/s\u001b[0m eta \u001b[36m0:00:00\u001b[0m\n",
            "\u001b[?25hInstalling collected packages: nvidia-nvjitlink-cu12, nvidia-curand-cu12, nvidia-cufft-cu12, nvidia-cuda-runtime-cu12, nvidia-cuda-nvrtc-cu12, nvidia-cuda-cupti-cu12, nvidia-cublas-cu12, nvidia-cusparse-cu12, nvidia-cudnn-cu12, nvidia-cusolver-cu12\n",
            "  Attempting uninstall: nvidia-nvjitlink-cu12\n",
            "    Found existing installation: nvidia-nvjitlink-cu12 12.5.82\n",
            "    Uninstalling nvidia-nvjitlink-cu12-12.5.82:\n",
            "      Successfully uninstalled nvidia-nvjitlink-cu12-12.5.82\n",
            "  Attempting uninstall: nvidia-curand-cu12\n",
            "    Found existing installation: nvidia-curand-cu12 10.3.6.82\n",
            "    Uninstalling nvidia-curand-cu12-10.3.6.82:\n",
            "      Successfully uninstalled nvidia-curand-cu12-10.3.6.82\n",
            "  Attempting uninstall: nvidia-cufft-cu12\n",
            "    Found existing installation: nvidia-cufft-cu12 11.2.3.61\n",
            "    Uninstalling nvidia-cufft-cu12-11.2.3.61:\n",
            "      Successfully uninstalled nvidia-cufft-cu12-11.2.3.61\n",
            "  Attempting uninstall: nvidia-cuda-runtime-cu12\n",
            "    Found existing installation: nvidia-cuda-runtime-cu12 12.5.82\n",
            "    Uninstalling nvidia-cuda-runtime-cu12-12.5.82:\n",
            "      Successfully uninstalled nvidia-cuda-runtime-cu12-12.5.82\n",
            "  Attempting uninstall: nvidia-cuda-nvrtc-cu12\n",
            "    Found existing installation: nvidia-cuda-nvrtc-cu12 12.5.82\n",
            "    Uninstalling nvidia-cuda-nvrtc-cu12-12.5.82:\n",
            "      Successfully uninstalled nvidia-cuda-nvrtc-cu12-12.5.82\n",
            "  Attempting uninstall: nvidia-cuda-cupti-cu12\n",
            "    Found existing installation: nvidia-cuda-cupti-cu12 12.5.82\n",
            "    Uninstalling nvidia-cuda-cupti-cu12-12.5.82:\n",
            "      Successfully uninstalled nvidia-cuda-cupti-cu12-12.5.82\n",
            "  Attempting uninstall: nvidia-cublas-cu12\n",
            "    Found existing installation: nvidia-cublas-cu12 12.5.3.2\n",
            "    Uninstalling nvidia-cublas-cu12-12.5.3.2:\n",
            "      Successfully uninstalled nvidia-cublas-cu12-12.5.3.2\n",
            "  Attempting uninstall: nvidia-cusparse-cu12\n",
            "    Found existing installation: nvidia-cusparse-cu12 12.5.1.3\n",
            "    Uninstalling nvidia-cusparse-cu12-12.5.1.3:\n",
            "      Successfully uninstalled nvidia-cusparse-cu12-12.5.1.3\n",
            "  Attempting uninstall: nvidia-cudnn-cu12\n",
            "    Found existing installation: nvidia-cudnn-cu12 9.3.0.75\n",
            "    Uninstalling nvidia-cudnn-cu12-9.3.0.75:\n",
            "      Successfully uninstalled nvidia-cudnn-cu12-9.3.0.75\n",
            "  Attempting uninstall: nvidia-cusolver-cu12\n",
            "    Found existing installation: nvidia-cusolver-cu12 11.6.3.83\n",
            "    Uninstalling nvidia-cusolver-cu12-11.6.3.83:\n",
            "      Successfully uninstalled nvidia-cusolver-cu12-11.6.3.83\n",
            "Successfully installed nvidia-cublas-cu12-12.4.5.8 nvidia-cuda-cupti-cu12-12.4.127 nvidia-cuda-nvrtc-cu12-12.4.127 nvidia-cuda-runtime-cu12-12.4.127 nvidia-cudnn-cu12-9.1.0.70 nvidia-cufft-cu12-11.2.1.3 nvidia-curand-cu12-10.3.5.147 nvidia-cusolver-cu12-11.6.1.9 nvidia-cusparse-cu12-12.3.1.170 nvidia-nvjitlink-cu12-12.4.127\n"
          ]
        }
      ],
      "source": [
        "!pip install torchvision"
      ]
    },
    {
      "cell_type": "markdown",
      "metadata": {
        "id": "hWH2KC_Rtp7x"
      },
      "source": [
        "<h2 id=\"auxiliary\">Imports and Auxiliary Functions</h2>\n"
      ]
    },
    {
      "cell_type": "markdown",
      "metadata": {
        "id": "Q2GlXlXjtp7x"
      },
      "source": [
        "The following are the libraries we are going to use for this lab. The <code>torch.manual_seed()</code> is for forcing the random function to give the same number every time we try to recompile it.\n"
      ]
    },
    {
      "cell_type": "code",
      "execution_count": 4,
      "metadata": {
        "colab": {
          "base_uri": "https://localhost:8080/"
        },
        "id": "vV2qEn1-tp7x",
        "outputId": "7ea5f2d7-22e4-4aac-d395-ed1bc18caef7"
      },
      "outputs": [
        {
          "output_type": "execute_result",
          "data": {
            "text/plain": [
              "<torch._C.Generator at 0x7ab1681e46d0>"
            ]
          },
          "metadata": {},
          "execution_count": 4
        }
      ],
      "source": [
        "# These are the libraries will be used for this lab.\n",
        "import torchvision.models as models\n",
        "from PIL import Image\n",
        "import pandas\n",
        "from torchvision import transforms\n",
        "import torch.nn as nn\n",
        "import time\n",
        "import torch\n",
        "import matplotlib.pylab as plt\n",
        "import numpy as np\n",
        "from torch.utils.data import Dataset, DataLoader\n",
        "import h5py\n",
        "import os\n",
        "import glob\n",
        "torch.manual_seed(0)"
      ]
    },
    {
      "cell_type": "code",
      "execution_count": 5,
      "metadata": {
        "id": "h4iskOHgtp7x"
      },
      "outputs": [],
      "source": [
        "from matplotlib.pyplot import imshow\n",
        "import matplotlib.pylab as plt\n",
        "from PIL import Image\n",
        "import pandas as pd\n",
        "import os"
      ]
    },
    {
      "cell_type": "code",
      "source": [
        "device = torch.device (\"cuda\" if torch.cuda.is_available() else \"cpu\")\n",
        "print(\"Using device:\", device)"
      ],
      "metadata": {
        "colab": {
          "base_uri": "https://localhost:8080/"
        },
        "id": "hCSeaOerOS5p",
        "outputId": "f7b05f46-da86-4d2e-cc55-983f3616bd20"
      },
      "execution_count": 6,
      "outputs": [
        {
          "output_type": "stream",
          "name": "stdout",
          "text": [
            "Using device: cuda\n"
          ]
        }
      ]
    },
    {
      "cell_type": "markdown",
      "metadata": {
        "id": "lMKSDw-utp7x"
      },
      "source": [
        "<!--Empty Space for separating topics-->\n"
      ]
    },
    {
      "cell_type": "markdown",
      "metadata": {
        "id": "k_qwTXfztp7x"
      },
      "source": [
        "<h2 id=\"data_class\">Dataset Class</h2>\n"
      ]
    },
    {
      "cell_type": "markdown",
      "metadata": {
        "id": "nU-_I2BGtp7x"
      },
      "source": [
        " This dataset class is essentially the same dataset you build in the previous section, but to speed things up, we are going to use tensors instead of jpeg images. Therefor for each iteration, you will skip the reshape step, conversion step to tensors and normalization step.\n"
      ]
    },
    {
      "cell_type": "code",
      "execution_count": 7,
      "metadata": {
        "colab": {
          "base_uri": "https://localhost:8080/"
        },
        "id": "Xr77d4Qotp7y",
        "outputId": "9bc30d59-19a0-4b7f-8069-3af1207db66a"
      },
      "outputs": [
        {
          "output_type": "stream",
          "name": "stdout",
          "text": [
            "done\n"
          ]
        }
      ],
      "source": [
        "# Create your own dataset object\n",
        "\n",
        "class Dataset(Dataset):\n",
        "\n",
        "    # Constructor\n",
        "    def __init__(self,transform=None,train=True):\n",
        "        directory=\"/content\"\n",
        "        positive=\"Positive_tensors\"\n",
        "        negative='Negative_tensors'\n",
        "\n",
        "        positive_file_path=os.path.join(directory,positive)\n",
        "        negative_file_path=os.path.join(directory,negative)\n",
        "        positive_files=[os.path.join(positive_file_path,file) for file in os.listdir(positive_file_path) if file.endswith(\".pt\")]\n",
        "        negative_files=[os.path.join(negative_file_path,file) for file in os.listdir(negative_file_path) if file.endswith(\".pt\")]\n",
        "        number_of_samples=len(positive_files)+len(negative_files)\n",
        "        self.all_files=[None]*number_of_samples\n",
        "        self.all_files[::2]=positive_files\n",
        "        self.all_files[1::2]=negative_files\n",
        "        # The transform is goint to be used on image\n",
        "        self.transform = transform\n",
        "        #torch.LongTensor\n",
        "        self.Y=torch.zeros([number_of_samples]).type(torch.LongTensor)\n",
        "        self.Y[::2]=1\n",
        "        self.Y[1::2]=0\n",
        "\n",
        "        if train:\n",
        "            self.all_files=self.all_files[0:30000]\n",
        "            self.Y=self.Y[0:30000]\n",
        "            self.len=len(self.all_files)\n",
        "        else:\n",
        "            self.all_files=self.all_files[30000:]\n",
        "            self.Y=self.Y[30000:]\n",
        "            self.len=len(self.all_files)\n",
        "\n",
        "    # Get the length\n",
        "    def __len__(self):\n",
        "        return self.len\n",
        "\n",
        "    # Getter\n",
        "    def __getitem__(self, idx):\n",
        "\n",
        "        image=torch.load(self.all_files[idx])\n",
        "        y=self.Y[idx]\n",
        "\n",
        "        # If there is any transform method, apply it onto the image\n",
        "        if self.transform:\n",
        "            image = self.transform(image)\n",
        "\n",
        "        return image, y\n",
        "\n",
        "print(\"done\")"
      ]
    },
    {
      "cell_type": "markdown",
      "metadata": {
        "id": "wPXPYcZXtp7y"
      },
      "source": [
        "We create two dataset objects, one for the training data and one for the validation data.\n"
      ]
    },
    {
      "cell_type": "code",
      "execution_count": 8,
      "metadata": {
        "colab": {
          "base_uri": "https://localhost:8080/"
        },
        "id": "Gyg33a-etp7y",
        "outputId": "09f5be12-6a10-48be-983c-625aff9f4ea5"
      },
      "outputs": [
        {
          "output_type": "stream",
          "name": "stdout",
          "text": [
            "done\n"
          ]
        }
      ],
      "source": [
        "train_dataset = Dataset(train=True)\n",
        "validation_dataset = Dataset(train=False)\n",
        "print(\"done\")"
      ]
    },
    {
      "cell_type": "markdown",
      "metadata": {
        "id": "ADumDcvFtp7y"
      },
      "source": [
        "<h2 id=\"Question_1\">Question 1</h2>\n"
      ]
    },
    {
      "cell_type": "markdown",
      "metadata": {
        "id": "brkCQtlltp7z"
      },
      "source": [
        "<b>Prepare a pre-trained resnet18 model :</b>\n"
      ]
    },
    {
      "cell_type": "markdown",
      "metadata": {
        "id": "ib87WSektp7z"
      },
      "source": [
        "<b>Step 1</b>: Load the pre-trained model <code>resnet18</code> Set the parameter <code>pretrained</code> to true:\n"
      ]
    },
    {
      "cell_type": "code",
      "execution_count": 9,
      "metadata": {
        "colab": {
          "base_uri": "https://localhost:8080/"
        },
        "id": "q5WwBZqvtp7z",
        "outputId": "d58c47d3-0c8b-48e4-a292-1397067c635a"
      },
      "outputs": [
        {
          "output_type": "stream",
          "name": "stderr",
          "text": [
            "/usr/local/lib/python3.11/dist-packages/torchvision/models/_utils.py:208: UserWarning: The parameter 'pretrained' is deprecated since 0.13 and may be removed in the future, please use 'weights' instead.\n",
            "  warnings.warn(\n",
            "/usr/local/lib/python3.11/dist-packages/torchvision/models/_utils.py:223: UserWarning: Arguments other than a weight enum or `None` for 'weights' are deprecated since 0.13 and may be removed in the future. The current behavior is equivalent to passing `weights=ResNet18_Weights.IMAGENET1K_V1`. You can also use `weights=ResNet18_Weights.DEFAULT` to get the most up-to-date weights.\n",
            "  warnings.warn(msg)\n",
            "Downloading: \"https://download.pytorch.org/models/resnet18-f37072fd.pth\" to /root/.cache/torch/hub/checkpoints/resnet18-f37072fd.pth\n",
            "100%|██████████| 44.7M/44.7M [00:00<00:00, 52.0MB/s]\n"
          ]
        }
      ],
      "source": [
        "# Step 1: Load the pre-trained model resnet18\n",
        "# Type your code here\n",
        "model = models.resnet18(pretrained=True)"
      ]
    },
    {
      "cell_type": "code",
      "source": [
        "model = model.to(device)"
      ],
      "metadata": {
        "id": "cDKwJxGdPD_J"
      },
      "execution_count": 20,
      "outputs": []
    },
    {
      "cell_type": "markdown",
      "metadata": {
        "id": "C80pIpQltp7z"
      },
      "source": [
        "<b>Step 2</b>: Set the attribute <code>requires_grad</code> to <code>False</code>. As a result, the parameters will not be affected by training.\n"
      ]
    },
    {
      "cell_type": "code",
      "execution_count": 21,
      "metadata": {
        "id": "NPz2Mdywtp70"
      },
      "outputs": [],
      "source": [
        "# Step 2: Set the parameter cannot be trained for the pre-trained model\n",
        "\n",
        "\n",
        "# Type your code here\n",
        "for params in model.parameters():\n",
        "    params.requires_grad = False"
      ]
    },
    {
      "cell_type": "markdown",
      "metadata": {
        "id": "1gMoYOAftp70"
      },
      "source": [
        "<code>resnet18</code> is used to classify 1000 different objects; as a result, the last layer has 1000 outputs.  The 512 inputs come from the fact that the previously hidden layer has 512 outputs.\n"
      ]
    },
    {
      "cell_type": "markdown",
      "metadata": {
        "id": "3q553DiOtp70"
      },
      "source": [
        "<b>Step 3</b>: Replace the output layer <code>model.fc</code> of the neural network with a <code>nn.Linear</code> object, to classify 2 different classes. For the parameters <code>in_features </code> remember the last hidden layer has 512 neurons.\n"
      ]
    },
    {
      "cell_type": "code",
      "execution_count": 22,
      "metadata": {
        "id": "nFHQ14zftp70"
      },
      "outputs": [],
      "source": [
        "in_features = 512\n",
        "output_size = 2\n",
        "model.fc = nn.Linear(in_features, output_size)"
      ]
    },
    {
      "cell_type": "markdown",
      "metadata": {
        "id": "Ot09S0i8tp70"
      },
      "source": [
        "Print out the model in order to show whether you get the correct answer.<br> <b>(Your peer reviewer is going to mark based on what you print here.)</b>\n"
      ]
    },
    {
      "cell_type": "code",
      "execution_count": 23,
      "metadata": {
        "colab": {
          "base_uri": "https://localhost:8080/"
        },
        "id": "67ogrcmWtp70",
        "outputId": "9215dd02-a63a-46ac-f376-68ac039ae3f7"
      },
      "outputs": [
        {
          "output_type": "stream",
          "name": "stdout",
          "text": [
            "ResNet(\n",
            "  (conv1): Conv2d(3, 64, kernel_size=(7, 7), stride=(2, 2), padding=(3, 3), bias=False)\n",
            "  (bn1): BatchNorm2d(64, eps=1e-05, momentum=0.1, affine=True, track_running_stats=True)\n",
            "  (relu): ReLU(inplace=True)\n",
            "  (maxpool): MaxPool2d(kernel_size=3, stride=2, padding=1, dilation=1, ceil_mode=False)\n",
            "  (layer1): Sequential(\n",
            "    (0): BasicBlock(\n",
            "      (conv1): Conv2d(64, 64, kernel_size=(3, 3), stride=(1, 1), padding=(1, 1), bias=False)\n",
            "      (bn1): BatchNorm2d(64, eps=1e-05, momentum=0.1, affine=True, track_running_stats=True)\n",
            "      (relu): ReLU(inplace=True)\n",
            "      (conv2): Conv2d(64, 64, kernel_size=(3, 3), stride=(1, 1), padding=(1, 1), bias=False)\n",
            "      (bn2): BatchNorm2d(64, eps=1e-05, momentum=0.1, affine=True, track_running_stats=True)\n",
            "    )\n",
            "    (1): BasicBlock(\n",
            "      (conv1): Conv2d(64, 64, kernel_size=(3, 3), stride=(1, 1), padding=(1, 1), bias=False)\n",
            "      (bn1): BatchNorm2d(64, eps=1e-05, momentum=0.1, affine=True, track_running_stats=True)\n",
            "      (relu): ReLU(inplace=True)\n",
            "      (conv2): Conv2d(64, 64, kernel_size=(3, 3), stride=(1, 1), padding=(1, 1), bias=False)\n",
            "      (bn2): BatchNorm2d(64, eps=1e-05, momentum=0.1, affine=True, track_running_stats=True)\n",
            "    )\n",
            "  )\n",
            "  (layer2): Sequential(\n",
            "    (0): BasicBlock(\n",
            "      (conv1): Conv2d(64, 128, kernel_size=(3, 3), stride=(2, 2), padding=(1, 1), bias=False)\n",
            "      (bn1): BatchNorm2d(128, eps=1e-05, momentum=0.1, affine=True, track_running_stats=True)\n",
            "      (relu): ReLU(inplace=True)\n",
            "      (conv2): Conv2d(128, 128, kernel_size=(3, 3), stride=(1, 1), padding=(1, 1), bias=False)\n",
            "      (bn2): BatchNorm2d(128, eps=1e-05, momentum=0.1, affine=True, track_running_stats=True)\n",
            "      (downsample): Sequential(\n",
            "        (0): Conv2d(64, 128, kernel_size=(1, 1), stride=(2, 2), bias=False)\n",
            "        (1): BatchNorm2d(128, eps=1e-05, momentum=0.1, affine=True, track_running_stats=True)\n",
            "      )\n",
            "    )\n",
            "    (1): BasicBlock(\n",
            "      (conv1): Conv2d(128, 128, kernel_size=(3, 3), stride=(1, 1), padding=(1, 1), bias=False)\n",
            "      (bn1): BatchNorm2d(128, eps=1e-05, momentum=0.1, affine=True, track_running_stats=True)\n",
            "      (relu): ReLU(inplace=True)\n",
            "      (conv2): Conv2d(128, 128, kernel_size=(3, 3), stride=(1, 1), padding=(1, 1), bias=False)\n",
            "      (bn2): BatchNorm2d(128, eps=1e-05, momentum=0.1, affine=True, track_running_stats=True)\n",
            "    )\n",
            "  )\n",
            "  (layer3): Sequential(\n",
            "    (0): BasicBlock(\n",
            "      (conv1): Conv2d(128, 256, kernel_size=(3, 3), stride=(2, 2), padding=(1, 1), bias=False)\n",
            "      (bn1): BatchNorm2d(256, eps=1e-05, momentum=0.1, affine=True, track_running_stats=True)\n",
            "      (relu): ReLU(inplace=True)\n",
            "      (conv2): Conv2d(256, 256, kernel_size=(3, 3), stride=(1, 1), padding=(1, 1), bias=False)\n",
            "      (bn2): BatchNorm2d(256, eps=1e-05, momentum=0.1, affine=True, track_running_stats=True)\n",
            "      (downsample): Sequential(\n",
            "        (0): Conv2d(128, 256, kernel_size=(1, 1), stride=(2, 2), bias=False)\n",
            "        (1): BatchNorm2d(256, eps=1e-05, momentum=0.1, affine=True, track_running_stats=True)\n",
            "      )\n",
            "    )\n",
            "    (1): BasicBlock(\n",
            "      (conv1): Conv2d(256, 256, kernel_size=(3, 3), stride=(1, 1), padding=(1, 1), bias=False)\n",
            "      (bn1): BatchNorm2d(256, eps=1e-05, momentum=0.1, affine=True, track_running_stats=True)\n",
            "      (relu): ReLU(inplace=True)\n",
            "      (conv2): Conv2d(256, 256, kernel_size=(3, 3), stride=(1, 1), padding=(1, 1), bias=False)\n",
            "      (bn2): BatchNorm2d(256, eps=1e-05, momentum=0.1, affine=True, track_running_stats=True)\n",
            "    )\n",
            "  )\n",
            "  (layer4): Sequential(\n",
            "    (0): BasicBlock(\n",
            "      (conv1): Conv2d(256, 512, kernel_size=(3, 3), stride=(2, 2), padding=(1, 1), bias=False)\n",
            "      (bn1): BatchNorm2d(512, eps=1e-05, momentum=0.1, affine=True, track_running_stats=True)\n",
            "      (relu): ReLU(inplace=True)\n",
            "      (conv2): Conv2d(512, 512, kernel_size=(3, 3), stride=(1, 1), padding=(1, 1), bias=False)\n",
            "      (bn2): BatchNorm2d(512, eps=1e-05, momentum=0.1, affine=True, track_running_stats=True)\n",
            "      (downsample): Sequential(\n",
            "        (0): Conv2d(256, 512, kernel_size=(1, 1), stride=(2, 2), bias=False)\n",
            "        (1): BatchNorm2d(512, eps=1e-05, momentum=0.1, affine=True, track_running_stats=True)\n",
            "      )\n",
            "    )\n",
            "    (1): BasicBlock(\n",
            "      (conv1): Conv2d(512, 512, kernel_size=(3, 3), stride=(1, 1), padding=(1, 1), bias=False)\n",
            "      (bn1): BatchNorm2d(512, eps=1e-05, momentum=0.1, affine=True, track_running_stats=True)\n",
            "      (relu): ReLU(inplace=True)\n",
            "      (conv2): Conv2d(512, 512, kernel_size=(3, 3), stride=(1, 1), padding=(1, 1), bias=False)\n",
            "      (bn2): BatchNorm2d(512, eps=1e-05, momentum=0.1, affine=True, track_running_stats=True)\n",
            "    )\n",
            "  )\n",
            "  (avgpool): AdaptiveAvgPool2d(output_size=(1, 1))\n",
            "  (fc): Linear(in_features=512, out_features=2, bias=True)\n",
            ")\n"
          ]
        }
      ],
      "source": [
        "print(model)"
      ]
    },
    {
      "cell_type": "code",
      "source": [
        "for params in model.parameters():\n",
        "  if params.requires_grad:\n",
        "    print(params)"
      ],
      "metadata": {
        "colab": {
          "base_uri": "https://localhost:8080/"
        },
        "id": "2hoKS8OsPKV4",
        "outputId": "8d64084a-71ca-440b-b426-be1b171ae4ca"
      },
      "execution_count": 24,
      "outputs": [
        {
          "output_type": "stream",
          "name": "stdout",
          "text": [
            "Parameter containing:\n",
            "tensor([[-0.0409, -0.0068,  0.0387,  ..., -0.0134,  0.0123, -0.0107],\n",
            "        [ 0.0440, -0.0334, -0.0212,  ..., -0.0174, -0.0112,  0.0216]],\n",
            "       requires_grad=True)\n",
            "Parameter containing:\n",
            "tensor([-0.0100, -0.0039], requires_grad=True)\n"
          ]
        }
      ]
    },
    {
      "cell_type": "code",
      "source": [
        "model = model.to(device)"
      ],
      "metadata": {
        "id": "MMj6EUYwSYca"
      },
      "execution_count": 25,
      "outputs": []
    },
    {
      "cell_type": "markdown",
      "metadata": {
        "id": "G2M5xCNAtp70"
      },
      "source": [
        "<h2 id=\"Question_2\">Question 2: Train the Model</h2>\n"
      ]
    },
    {
      "cell_type": "markdown",
      "metadata": {
        "id": "4hw5KOmBtp71"
      },
      "source": [
        "In this question you will train your, model:\n"
      ]
    },
    {
      "cell_type": "markdown",
      "metadata": {
        "id": "o5b8Dc3jtp71"
      },
      "source": [
        "<b>Step 1</b>: Create a cross entropy criterion function\n"
      ]
    },
    {
      "cell_type": "code",
      "execution_count": 26,
      "metadata": {
        "id": "iDgKJXcQtp71"
      },
      "outputs": [],
      "source": [
        "# Step 1: Create the loss function\n",
        "\n",
        "# Type your code here\n",
        "criterion = nn.CrossEntropyLoss()"
      ]
    },
    {
      "cell_type": "markdown",
      "metadata": {
        "id": "0j66o2Rqtp71"
      },
      "source": [
        "<b>Step 2</b>: Create a training loader and validation loader object, the batch size should have 100 samples each.\n"
      ]
    },
    {
      "cell_type": "code",
      "execution_count": 27,
      "metadata": {
        "id": "nkwJMnF5tp8J"
      },
      "outputs": [],
      "source": [
        "train_loader = DataLoader(train_dataset, batch_size=100)\n",
        "val_loader = DataLoader(validation_dataset, batch_size=100)"
      ]
    },
    {
      "cell_type": "markdown",
      "metadata": {
        "id": "aB6fap2htp8J"
      },
      "source": [
        "<b>Step 3</b>: Use the following optimizer to minimize the loss\n"
      ]
    },
    {
      "cell_type": "code",
      "execution_count": 28,
      "metadata": {
        "id": "o2Bly93ktp8J"
      },
      "outputs": [],
      "source": [
        "optimizer = torch.optim.Adam([parameters  for parameters in model.parameters() if parameters.requires_grad],lr=0.001)"
      ]
    },
    {
      "cell_type": "markdown",
      "metadata": {
        "id": "aTVQzulMtp8J"
      },
      "source": [
        "<!--Empty Space for separating topics-->\n"
      ]
    },
    {
      "cell_type": "markdown",
      "metadata": {
        "id": "vjVt9lBTtp8K"
      },
      "source": [
        "**Complete the following code to calculate  the accuracy on the validation data for one epoch; this should take about 45 minutes. Make sure you calculate the accuracy on the validation data.**\n"
      ]
    },
    {
      "cell_type": "code",
      "execution_count": 29,
      "metadata": {
        "colab": {
          "base_uri": "https://localhost:8080/"
        },
        "id": "24SF4cu6tp8K",
        "outputId": "bfebfa9f-ace7-4af0-a12e-09780a77f9cb"
      },
      "outputs": [
        {
          "output_type": "stream",
          "name": "stdout",
          "text": [
            "loss: tensor(0.7546, device='cuda:0')\n",
            "loss: tensor(0.7358, device='cuda:0')\n",
            "loss: tensor(0.7183, device='cuda:0')\n",
            "loss: tensor(0.6322, device='cuda:0')\n",
            "loss: tensor(0.5627, device='cuda:0')\n",
            "loss: tensor(0.5009, device='cuda:0')\n",
            "loss: tensor(0.5106, device='cuda:0')\n",
            "loss: tensor(0.4847, device='cuda:0')\n",
            "loss: tensor(0.4462, device='cuda:0')\n",
            "loss: tensor(0.4244, device='cuda:0')\n",
            "loss: tensor(0.4137, device='cuda:0')\n",
            "loss: tensor(0.3795, device='cuda:0')\n",
            "loss: tensor(0.3261, device='cuda:0')\n",
            "loss: tensor(0.3384, device='cuda:0')\n",
            "loss: tensor(0.3199, device='cuda:0')\n",
            "loss: tensor(0.2961, device='cuda:0')\n",
            "loss: tensor(0.2677, device='cuda:0')\n",
            "loss: tensor(0.2921, device='cuda:0')\n",
            "loss: tensor(0.2453, device='cuda:0')\n",
            "loss: tensor(0.2601, device='cuda:0')\n",
            "loss: tensor(0.2221, device='cuda:0')\n",
            "loss: tensor(0.2479, device='cuda:0')\n",
            "loss: tensor(0.2114, device='cuda:0')\n",
            "loss: tensor(0.2351, device='cuda:0')\n",
            "loss: tensor(0.2218, device='cuda:0')\n",
            "loss: tensor(0.1985, device='cuda:0')\n",
            "loss: tensor(0.1910, device='cuda:0')\n",
            "loss: tensor(0.1701, device='cuda:0')\n",
            "loss: tensor(0.2112, device='cuda:0')\n",
            "loss: tensor(0.1435, device='cuda:0')\n",
            "loss: tensor(0.1531, device='cuda:0')\n",
            "loss: tensor(0.1509, device='cuda:0')\n",
            "loss: tensor(0.1421, device='cuda:0')\n",
            "loss: tensor(0.1527, device='cuda:0')\n",
            "loss: tensor(0.1591, device='cuda:0')\n",
            "loss: tensor(0.1400, device='cuda:0')\n",
            "loss: tensor(0.1510, device='cuda:0')\n",
            "loss: tensor(0.1582, device='cuda:0')\n",
            "loss: tensor(0.1322, device='cuda:0')\n",
            "loss: tensor(0.1518, device='cuda:0')\n",
            "loss: tensor(0.1110, device='cuda:0')\n",
            "loss: tensor(0.1217, device='cuda:0')\n",
            "loss: tensor(0.1260, device='cuda:0')\n",
            "loss: tensor(0.1641, device='cuda:0')\n",
            "loss: tensor(0.1344, device='cuda:0')\n",
            "loss: tensor(0.1415, device='cuda:0')\n",
            "loss: tensor(0.1288, device='cuda:0')\n",
            "loss: tensor(0.1018, device='cuda:0')\n",
            "loss: tensor(0.1398, device='cuda:0')\n",
            "loss: tensor(0.0957, device='cuda:0')\n",
            "loss: tensor(0.1203, device='cuda:0')\n",
            "loss: tensor(0.1028, device='cuda:0')\n",
            "loss: tensor(0.1110, device='cuda:0')\n",
            "loss: tensor(0.0831, device='cuda:0')\n",
            "loss: tensor(0.1074, device='cuda:0')\n",
            "loss: tensor(0.0972, device='cuda:0')\n",
            "loss: tensor(0.0912, device='cuda:0')\n",
            "loss: tensor(0.1100, device='cuda:0')\n",
            "loss: tensor(0.1132, device='cuda:0')\n",
            "loss: tensor(0.1167, device='cuda:0')\n",
            "loss: tensor(0.0811, device='cuda:0')\n",
            "loss: tensor(0.0776, device='cuda:0')\n",
            "loss: tensor(0.0888, device='cuda:0')\n",
            "loss: tensor(0.1016, device='cuda:0')\n",
            "loss: tensor(0.0694, device='cuda:0')\n",
            "loss: tensor(0.0778, device='cuda:0')\n",
            "loss: tensor(0.0719, device='cuda:0')\n",
            "loss: tensor(0.0617, device='cuda:0')\n",
            "loss: tensor(0.0665, device='cuda:0')\n",
            "loss: tensor(0.0918, device='cuda:0')\n",
            "loss: tensor(0.0771, device='cuda:0')\n",
            "loss: tensor(0.0756, device='cuda:0')\n",
            "loss: tensor(0.0576, device='cuda:0')\n",
            "loss: tensor(0.0856, device='cuda:0')\n",
            "loss: tensor(0.0594, device='cuda:0')\n",
            "loss: tensor(0.0794, device='cuda:0')\n",
            "loss: tensor(0.0563, device='cuda:0')\n",
            "loss: tensor(0.0691, device='cuda:0')\n",
            "loss: tensor(0.0940, device='cuda:0')\n",
            "loss: tensor(0.0763, device='cuda:0')\n",
            "loss: tensor(0.0942, device='cuda:0')\n",
            "loss: tensor(0.0902, device='cuda:0')\n",
            "loss: tensor(0.0742, device='cuda:0')\n",
            "loss: tensor(0.0483, device='cuda:0')\n",
            "loss: tensor(0.0614, device='cuda:0')\n",
            "loss: tensor(0.0578, device='cuda:0')\n",
            "loss: tensor(0.0611, device='cuda:0')\n",
            "loss: tensor(0.0689, device='cuda:0')\n",
            "loss: tensor(0.0794, device='cuda:0')\n",
            "loss: tensor(0.0725, device='cuda:0')\n",
            "loss: tensor(0.0635, device='cuda:0')\n",
            "loss: tensor(0.0588, device='cuda:0')\n",
            "loss: tensor(0.0764, device='cuda:0')\n",
            "loss: tensor(0.0666, device='cuda:0')\n",
            "loss: tensor(0.0640, device='cuda:0')\n",
            "loss: tensor(0.0474, device='cuda:0')\n",
            "loss: tensor(0.0659, device='cuda:0')\n",
            "loss: tensor(0.0813, device='cuda:0')\n",
            "loss: tensor(0.0399, device='cuda:0')\n",
            "loss: tensor(0.0577, device='cuda:0')\n",
            "loss: tensor(0.0463, device='cuda:0')\n",
            "loss: tensor(0.0885, device='cuda:0')\n",
            "loss: tensor(0.0612, device='cuda:0')\n",
            "loss: tensor(0.0561, device='cuda:0')\n",
            "loss: tensor(0.0761, device='cuda:0')\n",
            "loss: tensor(0.0566, device='cuda:0')\n",
            "loss: tensor(0.0969, device='cuda:0')\n",
            "loss: tensor(0.0362, device='cuda:0')\n",
            "loss: tensor(0.0494, device='cuda:0')\n",
            "loss: tensor(0.0410, device='cuda:0')\n",
            "loss: tensor(0.0711, device='cuda:0')\n",
            "loss: tensor(0.0570, device='cuda:0')\n",
            "loss: tensor(0.0898, device='cuda:0')\n",
            "loss: tensor(0.0435, device='cuda:0')\n",
            "loss: tensor(0.0512, device='cuda:0')\n",
            "loss: tensor(0.0697, device='cuda:0')\n",
            "loss: tensor(0.0956, device='cuda:0')\n",
            "loss: tensor(0.0526, device='cuda:0')\n",
            "loss: tensor(0.0534, device='cuda:0')\n",
            "loss: tensor(0.0538, device='cuda:0')\n",
            "loss: tensor(0.0438, device='cuda:0')\n",
            "loss: tensor(0.0498, device='cuda:0')\n",
            "loss: tensor(0.0616, device='cuda:0')\n",
            "loss: tensor(0.0531, device='cuda:0')\n",
            "loss: tensor(0.0684, device='cuda:0')\n",
            "loss: tensor(0.0497, device='cuda:0')\n",
            "loss: tensor(0.0553, device='cuda:0')\n",
            "loss: tensor(0.0465, device='cuda:0')\n",
            "loss: tensor(0.0493, device='cuda:0')\n",
            "loss: tensor(0.1195, device='cuda:0')\n",
            "loss: tensor(0.0648, device='cuda:0')\n",
            "loss: tensor(0.0257, device='cuda:0')\n",
            "loss: tensor(0.0557, device='cuda:0')\n",
            "loss: tensor(0.0378, device='cuda:0')\n",
            "loss: tensor(0.0486, device='cuda:0')\n",
            "loss: tensor(0.0446, device='cuda:0')\n",
            "loss: tensor(0.0424, device='cuda:0')\n",
            "loss: tensor(0.0847, device='cuda:0')\n",
            "loss: tensor(0.0416, device='cuda:0')\n",
            "loss: tensor(0.0382, device='cuda:0')\n",
            "loss: tensor(0.0543, device='cuda:0')\n",
            "loss: tensor(0.0753, device='cuda:0')\n",
            "loss: tensor(0.0560, device='cuda:0')\n",
            "loss: tensor(0.0449, device='cuda:0')\n",
            "loss: tensor(0.0555, device='cuda:0')\n",
            "loss: tensor(0.0451, device='cuda:0')\n",
            "loss: tensor(0.0650, device='cuda:0')\n",
            "loss: tensor(0.0429, device='cuda:0')\n",
            "loss: tensor(0.0509, device='cuda:0')\n",
            "loss: tensor(0.0418, device='cuda:0')\n",
            "loss: tensor(0.0332, device='cuda:0')\n",
            "loss: tensor(0.0357, device='cuda:0')\n",
            "loss: tensor(0.0318, device='cuda:0')\n",
            "loss: tensor(0.0630, device='cuda:0')\n",
            "loss: tensor(0.0425, device='cuda:0')\n",
            "loss: tensor(0.0379, device='cuda:0')\n",
            "loss: tensor(0.0793, device='cuda:0')\n",
            "loss: tensor(0.0387, device='cuda:0')\n",
            "loss: tensor(0.0486, device='cuda:0')\n",
            "loss: tensor(0.0423, device='cuda:0')\n",
            "loss: tensor(0.0301, device='cuda:0')\n",
            "loss: tensor(0.0532, device='cuda:0')\n",
            "loss: tensor(0.0393, device='cuda:0')\n",
            "loss: tensor(0.0364, device='cuda:0')\n",
            "loss: tensor(0.0622, device='cuda:0')\n",
            "loss: tensor(0.0552, device='cuda:0')\n",
            "loss: tensor(0.0447, device='cuda:0')\n",
            "loss: tensor(0.0409, device='cuda:0')\n",
            "loss: tensor(0.0379, device='cuda:0')\n",
            "loss: tensor(0.0482, device='cuda:0')\n",
            "loss: tensor(0.0506, device='cuda:0')\n",
            "loss: tensor(0.0351, device='cuda:0')\n",
            "loss: tensor(0.0301, device='cuda:0')\n",
            "loss: tensor(0.0233, device='cuda:0')\n",
            "loss: tensor(0.0295, device='cuda:0')\n",
            "loss: tensor(0.0459, device='cuda:0')\n",
            "loss: tensor(0.0367, device='cuda:0')\n",
            "loss: tensor(0.0403, device='cuda:0')\n",
            "loss: tensor(0.0311, device='cuda:0')\n",
            "loss: tensor(0.0355, device='cuda:0')\n",
            "loss: tensor(0.0364, device='cuda:0')\n",
            "loss: tensor(0.0657, device='cuda:0')\n",
            "loss: tensor(0.0236, device='cuda:0')\n",
            "loss: tensor(0.0485, device='cuda:0')\n",
            "loss: tensor(0.0376, device='cuda:0')\n",
            "loss: tensor(0.0485, device='cuda:0')\n",
            "loss: tensor(0.0383, device='cuda:0')\n",
            "loss: tensor(0.0452, device='cuda:0')\n",
            "loss: tensor(0.0558, device='cuda:0')\n",
            "loss: tensor(0.0511, device='cuda:0')\n",
            "loss: tensor(0.0220, device='cuda:0')\n",
            "loss: tensor(0.0211, device='cuda:0')\n",
            "loss: tensor(0.0405, device='cuda:0')\n",
            "loss: tensor(0.0559, device='cuda:0')\n",
            "loss: tensor(0.0225, device='cuda:0')\n",
            "loss: tensor(0.0428, device='cuda:0')\n",
            "loss: tensor(0.0536, device='cuda:0')\n",
            "loss: tensor(0.0291, device='cuda:0')\n",
            "loss: tensor(0.0268, device='cuda:0')\n",
            "loss: tensor(0.0245, device='cuda:0')\n",
            "loss: tensor(0.0222, device='cuda:0')\n",
            "loss: tensor(0.0318, device='cuda:0')\n",
            "loss: tensor(0.0440, device='cuda:0')\n",
            "loss: tensor(0.0320, device='cuda:0')\n",
            "loss: tensor(0.0311, device='cuda:0')\n",
            "loss: tensor(0.0425, device='cuda:0')\n",
            "loss: tensor(0.0355, device='cuda:0')\n",
            "loss: tensor(0.0287, device='cuda:0')\n",
            "loss: tensor(0.0216, device='cuda:0')\n",
            "loss: tensor(0.0233, device='cuda:0')\n",
            "loss: tensor(0.0263, device='cuda:0')\n",
            "loss: tensor(0.0341, device='cuda:0')\n",
            "loss: tensor(0.0337, device='cuda:0')\n",
            "loss: tensor(0.0481, device='cuda:0')\n",
            "loss: tensor(0.0254, device='cuda:0')\n",
            "loss: tensor(0.0221, device='cuda:0')\n",
            "loss: tensor(0.0262, device='cuda:0')\n",
            "loss: tensor(0.0355, device='cuda:0')\n",
            "loss: tensor(0.0177, device='cuda:0')\n",
            "loss: tensor(0.0354, device='cuda:0')\n",
            "loss: tensor(0.0162, device='cuda:0')\n",
            "loss: tensor(0.0473, device='cuda:0')\n",
            "loss: tensor(0.0258, device='cuda:0')\n",
            "loss: tensor(0.0221, device='cuda:0')\n",
            "loss: tensor(0.0310, device='cuda:0')\n",
            "loss: tensor(0.0337, device='cuda:0')\n",
            "loss: tensor(0.0389, device='cuda:0')\n",
            "loss: tensor(0.0252, device='cuda:0')\n",
            "loss: tensor(0.0165, device='cuda:0')\n",
            "loss: tensor(0.0293, device='cuda:0')\n",
            "loss: tensor(0.0278, device='cuda:0')\n",
            "loss: tensor(0.0374, device='cuda:0')\n",
            "loss: tensor(0.0346, device='cuda:0')\n",
            "loss: tensor(0.0567, device='cuda:0')\n",
            "loss: tensor(0.0376, device='cuda:0')\n",
            "loss: tensor(0.0274, device='cuda:0')\n",
            "loss: tensor(0.0447, device='cuda:0')\n",
            "loss: tensor(0.0334, device='cuda:0')\n",
            "loss: tensor(0.0320, device='cuda:0')\n",
            "loss: tensor(0.0215, device='cuda:0')\n",
            "loss: tensor(0.0386, device='cuda:0')\n",
            "loss: tensor(0.0420, device='cuda:0')\n",
            "loss: tensor(0.0402, device='cuda:0')\n",
            "loss: tensor(0.0294, device='cuda:0')\n",
            "loss: tensor(0.0215, device='cuda:0')\n",
            "loss: tensor(0.0522, device='cuda:0')\n",
            "loss: tensor(0.0253, device='cuda:0')\n",
            "loss: tensor(0.0515, device='cuda:0')\n",
            "loss: tensor(0.0183, device='cuda:0')\n",
            "loss: tensor(0.0209, device='cuda:0')\n",
            "loss: tensor(0.0275, device='cuda:0')\n",
            "loss: tensor(0.0228, device='cuda:0')\n",
            "loss: tensor(0.0498, device='cuda:0')\n",
            "loss: tensor(0.0380, device='cuda:0')\n",
            "loss: tensor(0.0182, device='cuda:0')\n",
            "loss: tensor(0.0419, device='cuda:0')\n",
            "loss: tensor(0.0214, device='cuda:0')\n",
            "loss: tensor(0.0372, device='cuda:0')\n",
            "loss: tensor(0.0217, device='cuda:0')\n",
            "loss: tensor(0.0368, device='cuda:0')\n",
            "loss: tensor(0.0383, device='cuda:0')\n",
            "loss: tensor(0.0280, device='cuda:0')\n",
            "loss: tensor(0.0389, device='cuda:0')\n",
            "loss: tensor(0.0556, device='cuda:0')\n",
            "loss: tensor(0.0496, device='cuda:0')\n",
            "loss: tensor(0.0269, device='cuda:0')\n",
            "loss: tensor(0.0414, device='cuda:0')\n",
            "loss: tensor(0.0264, device='cuda:0')\n",
            "loss: tensor(0.0393, device='cuda:0')\n",
            "loss: tensor(0.0199, device='cuda:0')\n",
            "loss: tensor(0.0348, device='cuda:0')\n",
            "loss: tensor(0.0441, device='cuda:0')\n",
            "loss: tensor(0.0387, device='cuda:0')\n",
            "loss: tensor(0.0625, device='cuda:0')\n",
            "loss: tensor(0.0374, device='cuda:0')\n",
            "loss: tensor(0.0381, device='cuda:0')\n",
            "loss: tensor(0.0389, device='cuda:0')\n",
            "loss: tensor(0.0209, device='cuda:0')\n",
            "loss: tensor(0.0484, device='cuda:0')\n",
            "loss: tensor(0.0505, device='cuda:0')\n",
            "loss: tensor(0.0209, device='cuda:0')\n",
            "loss: tensor(0.0265, device='cuda:0')\n",
            "loss: tensor(0.0184, device='cuda:0')\n",
            "loss: tensor(0.0416, device='cuda:0')\n",
            "loss: tensor(0.0255, device='cuda:0')\n",
            "loss: tensor(0.0267, device='cuda:0')\n",
            "loss: tensor(0.0239, device='cuda:0')\n",
            "loss: tensor(0.0228, device='cuda:0')\n",
            "loss: tensor(0.0219, device='cuda:0')\n",
            "loss: tensor(0.0244, device='cuda:0')\n",
            "loss: tensor(0.0169, device='cuda:0')\n",
            "loss: tensor(0.0201, device='cuda:0')\n",
            "loss: tensor(0.0319, device='cuda:0')\n",
            "loss: tensor(0.0220, device='cuda:0')\n",
            "loss: tensor(0.0177, device='cuda:0')\n",
            "loss: tensor(0.0169, device='cuda:0')\n",
            "loss: tensor(0.0220, device='cuda:0')\n",
            "loss: tensor(0.0351, device='cuda:0')\n",
            "loss: tensor(0.0500, device='cuda:0')\n",
            "loss: tensor(0.0292, device='cuda:0')\n",
            "Total Time is given in minutes  4.437198408444723\n"
          ]
        }
      ],
      "source": [
        "n_epochs=1\n",
        "loss_list=[]\n",
        "accuracy_list=[]\n",
        "correct=0\n",
        "N_test=len(validation_dataset)\n",
        "N_train=len(train_dataset)\n",
        "start_time = time.time()\n",
        "#n_epochs = 5\n",
        "\n",
        "Loss=0\n",
        "start_time = time.time()\n",
        "for epoch in range(n_epochs):\n",
        "    for x, y in train_loader:\n",
        "        x=x.to(device)\n",
        "        y=y.to(device)\n",
        "        model.train()\n",
        "        #clear gradient\n",
        "        optimizer.zero_grad()\n",
        "        #make a prediction\n",
        "        z = model(x)\n",
        "\n",
        "        # calculate loss\n",
        "        loss = criterion(z, y)\n",
        "        # calculate gradients of parameters\n",
        "        loss.backward()\n",
        "        # update parameters\n",
        "        optimizer.step()\n",
        "        loss_list.append(loss.data)\n",
        "        print('loss:',loss.data)\n",
        "    correct=0\n",
        "    for x_test, y_test in val_loader:\n",
        "        x_test=x_test.to(device)\n",
        "        y_test=y_test.to(device)\n",
        "        # set model to eval\n",
        "        model.eval()\n",
        "        #make a prediction\n",
        "        z = model(x_test)\n",
        "        #find max\n",
        "        _, yhat = torch.max(z.data, 1)\n",
        "\n",
        "        #Calculate misclassified  samples in mini-batch\n",
        "        #hint +=(yhat==y_test).sum().item()\n",
        "        correct += (yhat ==y_test).sum().item()\n",
        "\n",
        "    accuracy=correct/N_test\n",
        "    accuracy_list.append(accuracy)\n",
        "\n",
        "    # save best model\n",
        "    if accuracy==max(accuracy_list):\n",
        "        torch.save(model.state_dict(), 'best_model.pt')\n",
        "        best_accuracy = accuracy\n",
        "\n",
        "print(\"Total Time is given in minutes \", (time.time() - start_time)/60)\n",
        "\n"
      ]
    },
    {
      "cell_type": "markdown",
      "metadata": {
        "id": "BfdeMN6ctp8K"
      },
      "source": [
        "<b>Print out the Accuracy and plot the loss stored in the list <code>loss_list</code> for every iteration and take a screen shot.</b>\n"
      ]
    },
    {
      "cell_type": "code",
      "execution_count": 30,
      "metadata": {
        "colab": {
          "base_uri": "https://localhost:8080/"
        },
        "id": "kA7n8_T2tp8K",
        "outputId": "f405f428-12f6-475b-9ef4-735747825da5"
      },
      "outputs": [
        {
          "output_type": "execute_result",
          "data": {
            "text/plain": [
              "0.9927"
            ]
          },
          "metadata": {},
          "execution_count": 30
        }
      ],
      "source": [
        "accuracy"
      ]
    },
    {
      "cell_type": "code",
      "execution_count": 32,
      "metadata": {
        "colab": {
          "base_uri": "https://localhost:8080/",
          "height": 449
        },
        "id": "to-5mlC8tp8K",
        "outputId": "2c071d72-9887-49e8-b145-be69ca450797"
      },
      "outputs": [
        {
          "output_type": "display_data",
          "data": {
            "text/plain": [
              "<Figure size 640x480 with 1 Axes>"
            ],
            "image/png": "[encoded data removed]"
          },
          "metadata": {}
        }
      ],
      "source": [
        "loss_values = [loss.cpu().item() if torch.is_tensor(loss) else loss for loss in loss_list]\n",
        "\n",
        "plt.plot(loss_values)\n",
        "plt.xlabel(\"iteration\")\n",
        "plt.ylabel(\"loss\")\n",
        "plt.show()\n"
      ]
    },
    {
      "cell_type": "markdown",
      "metadata": {
        "id": "Z5RZuoc6tp8K"
      },
      "source": [
        "<h2 id=\"Question_3\">Question 3:Find the misclassified samples</h2>\n"
      ]
    },
    {
      "cell_type": "markdown",
      "metadata": {
        "id": "jUkkU7IYtp8K"
      },
      "source": [
        "<b>Identify the first four misclassified samples using the validation data:</b>\n"
      ]
    },
    {
      "cell_type": "code",
      "source": [
        "model.eval()\n",
        "\n",
        "misclassified_count = 0\n",
        "sample_index = 0\n",
        "\n",
        "with torch.no_grad():\n",
        "    for x_val, y_val in val_loader:\n",
        "        x_val = x_val.to(device)\n",
        "        y_val = y_val.to(device)\n",
        "        outputs = model(x_val)\n",
        "        preds = torch.argmax(outputs, dim=1)\n",
        "\n",
        "        for i in range(len(y_val)):\n",
        "            predicted = preds[i]\n",
        "            actual = y_val[i]\n",
        "            if predicted != actual:\n",
        "                print(f\"sample{sample_index} predicted value: {predicted.unsqueeze(0)}  actual value: {actual.unsqueeze(0)}\")\n",
        "                misclassified_count += 1\n",
        "                if misclassified_count == 4:\n",
        "                    break\n",
        "            sample_index += 1\n",
        "        if misclassified_count == 4:\n",
        "            break\n"
      ],
      "metadata": {
        "colab": {
          "base_uri": "https://localhost:8080/"
        },
        "id": "KPJhb_EBd1bW",
        "outputId": "c945114c-cd07-4540-899c-f70e87fcfeb1"
      },
      "execution_count": 37,
      "outputs": [
        {
          "output_type": "stream",
          "name": "stdout",
          "text": [
            "sample190 predicted value: tensor([0], device='cuda:0')  actual value: tensor([1], device='cuda:0')\n",
            "sample504 predicted value: tensor([0], device='cuda:0')  actual value: tensor([1], device='cuda:0')\n",
            "sample530 predicted value: tensor([0], device='cuda:0')  actual value: tensor([1], device='cuda:0')\n",
            "sample561 predicted value: tensor([1], device='cuda:0')  actual value: tensor([0], device='cuda:0')\n"
          ]
        }
      ]
    },
    {
      "cell_type": "markdown",
      "metadata": {
        "id": "FCf9J7aDtp8K"
      },
      "source": [
        "<a href=\"https://dataplatform.cloud.ibm.com/docs/content/wsj/analyze-data/share-notebooks.html?utm_source=skills_network&utm_content=in_lab_content_link&utm_id=Lab-IBMDeveloperSkillsNetwork-DL0321EN-SkillsNetwork\"> CLICK HERE </a> Click here to see how to share your notebook.\n"
      ]
    },
    {
      "cell_type": "markdown",
      "metadata": {
        "id": "Nk106t6atp8K"
      },
      "source": [
        "<h2>About the Authors:</h2>\n",
        "\n",
        "<a href=\"https://www.linkedin.com/in/joseph-s-50398b136/\">Joseph Santarcangelo</a> has a PhD in Electrical Engineering, his research focused on using machine learning, signal processing, and computer vision to determine how videos impact human cognition. Joseph has been working for IBM since he completed his PhD.\n"
      ]
    },
    {
      "cell_type": "markdown",
      "metadata": {
        "id": "NgNcoZr4tp8L"
      },
      "source": [
        "\n",
        "## Change Log\n",
        "\n",
        "|  Date (YYYY-MM-DD) |  Version | Changed By  |  Change Description |\n",
        "|---|---|---|---|\n",
        "| 2020-09-21  | 2.0  | Shubham  |  Migrated Lab to Markdown and added to course repo in GitLab |\n",
        "\n",
        "\n",
        "\n",
        "<hr>\n",
        "\n",
        "## <h3 align=\"center\"> © IBM Corporation 2020. All rights reserved. <h3/>\n"
      ]
    },
    {
      "cell_type": "markdown",
      "metadata": {
        "id": "yz_x-UaGtp8L"
      },
      "source": [
        "Copyright &copy; 2018 <a href=\"cognitiveclass.ai?utm_source=bducopyrightlink&utm_medium=dswb&utm_campaign=bdu\">cognitiveclass.ai</a>. This notebook and its source code are released under the terms of the <a href=\"https://bigdatauniversity.com/mit-license/\">MIT License</a>.\n"
      ]
    }
  ],
  "metadata": {
    "kernelspec": {
      "display_name": "Python",
      "language": "python",
      "name": "conda-env-python-py"
    },
    "language_info": {
      "codemirror_mode": {
        "name": "ipython",
        "version": 3
      },
      "file_extension": ".py",
      "mimetype": "text/x-python",
      "name": "python",
      "nbconvert_exporter": "python",
      "pygments_lexer": "ipython3",
      "version": "3.7.12"
    },
    "prev_pub_hash": "411ae2aef8ceb1100f8902a4d5f03fa3959d6f13ed71b4e07911db0399a6abc3",
    "colab": {
      "provenance": [],
      "gpuType": "T4"
    },
    "accelerator": "GPU"
  },
  "nbformat": 4,
  "nbformat_minor": 0
}